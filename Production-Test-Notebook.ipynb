{
 "cells": [
  {
   "cell_type": "markdown",
   "metadata": {},
   "source": [
    "### Analisis de Datos de pruebas de Produccion - Historico 2002 - 2020"
   ]
  },
  {
   "cell_type": "markdown",
   "metadata": {},
   "source": [
    "Datos obtenido del Software **LOWIS** (Life of Well Information Software)"
   ]
  },
  {
   "cell_type": "code",
   "execution_count": 1,
   "metadata": {},
   "outputs": [],
   "source": [
    "import datetime # Libreria para el manejo de fechas\n",
    "import numpy as np # Optimizacion de operaciones con matrices\n",
    "import pandas as pd # Manipulacion  de los datos.\n",
    "\n",
    "import matplotlib.pyplot as plt # Visualizacion de datos\n",
    "import seaborn as sns # Libreria de Visualizacion de datos mas\n",
    "\n",
    "%matplotlib inline\n",
    "\n"
   ]
  },
  {
   "cell_type": "markdown",
   "metadata": {},
   "source": [
    "### Funciones Utilizadas:"
   ]
  },
  {
   "cell_type": "code",
   "execution_count": 2,
   "metadata": {},
   "outputs": [],
   "source": [
    "def get_missing_values_df(df):\n",
    "    \n",
    "    \"\"\" Esta funcion recibe como parametro un dataframe y devuelve un dataframe\n",
    "        con la cantidad y el porcentaje de datos faltantes por atributo.\n",
    "        return DataFrame: columns [atributo, missing_values, percent]\n",
    "    \"\"\"\n",
    "    \n",
    "    missing_values_amount = df.isna().sum()\n",
    "    missing_values_percent = (missing_values_amount / len(df)).round(6) * 100\n",
    "    missing_df = pd.DataFrame({\n",
    "        \"atributos\": df.columns,\n",
    "        \"missing_values\": missing_values_amount,\n",
    "        \"percent\": missing_values_percent\n",
    "    })\n",
    "\n",
    "    top_missing_values = missing_df.loc[missing_df['missing_values']>0].sort_values(by='missing_values', ascending=False)\n",
    "    top_missing_values.reset_index(drop=True)\n",
    "    \n",
    "    return top_missing_values\n",
    "\n",
    "def plot_bar(df, x_name, y_name, main_title=None, width=15, height=5, \n",
    "             rot_label=45, palette_c=None, x_title=None, y_title=None):\n",
    "    \n",
    "    \"\"\"Esta funcion recibe parametros de configuracion \n",
    "        para hacer un plot de tipo barra\n",
    "        return BarPlot\n",
    "    \"\"\"\n",
    "    \n",
    "    if not x_title:\n",
    "        x_title = x_name\n",
    "    if not y_title:\n",
    "        y_title = y_name\n",
    "    if not main_title:\n",
    "        main_title = '{} VS {}'.format(x_name, y_name)\n",
    "        \n",
    "    \n",
    "    plt.figure(figsize=(width, height))\n",
    "    chart = sns.barplot(x=x_name, y=y_name, data=df, palette=palette_c)\n",
    "    chart.set_xticklabels(chart.get_xticklabels(), rotation=rot_label)\n",
    "    chart.set_xlabel(x_title)\n",
    "    chart.set_ylabel(y_title)\n",
    "    chart.set_title(main_title)\n",
    "    plt.show()\n",
    "\n",
    "def plot_boxplot(serie):\n",
    "    chart = sns.boxplot(x=serie)\n",
    "    plt.xlabel(serie.name)\n",
    "    plt.show()\n",
    "    \n",
    "    \n",
    "\n",
    "def plot_heatmap(df, x_name, y_name, main_title=None, width=15, height=5, \n",
    "                 palette_c=None, x_title=None, y_title=None):\n",
    "    \n",
    "    \"\"\" Esta funcion recibe parametros de configuracion y hace un plot de un heatmap\n",
    "        Ideal para mostrar la ocurrencia de los datos faltantes.\n",
    "    \"\"\"\n",
    "    \n",
    "    if not x_title:\n",
    "        x_title = x_name\n",
    "    if not y_title:\n",
    "        y_title = y_name\n",
    "    if not main_title:\n",
    "        main_title = '{} VS {}'.format(x_name, y_name)\n",
    "        \n",
    "    plt.figure(figsize=(width, height))\n",
    "    chart = sns.heatmap(df.isnull(), cbar=False)\n",
    "    chart.set_xlabel(x_name)\n",
    "    chart.set_ylabel(y_name)\n",
    "    chart.set_title(main_title)\n",
    "    plt.show()\n",
    "\n",
    "def plot_hist(serie):\n",
    "    serie.hist()\n",
    "    plt.xlabel(serie.name)\n",
    "    plt.ylabel(\"Frequency\")\n",
    "    #plt.title(serie.name, \" VS Frequency\".format(serie.name))\n",
    "    plt.show()\n",
    "\n",
    "def plot_feature_by_date(df, well_names, feature, r, c, operator, value):\n",
    "    f, axes = plt.subplots(r, c, figsize=(15, 10), sharex=False)\n",
    "    f.subplots_adjust(left=None, bottom=None, right=None, top=None, wspace=None, hspace=None)\n",
    "    f.constrained_layout = True\n",
    "    \n",
    "    w = 0\n",
    "    for i in range(r):\n",
    "        for n in range(c):\n",
    "            filtered = df.loc[df['LWNAME'] == well_names[w]].copy().reset_index(drop=True)\n",
    "            filtered['TESTDATE'] = filtered['TESTDATE'].astype('datetime64')\n",
    "            medians = np.full(\n",
    "                        shape=len(filtered),\n",
    "                        fill_value=filtered[feature].median(),\n",
    "                        dtype=np.float)\n",
    "            means = np.full(\n",
    "                        shape=len(filtered),\n",
    "                        fill_value=filtered[feature].mean(),\n",
    "                        dtype=np.float)\n",
    "            line_medians = pd.DataFrame({\"medians\": medians, \"means\": means, \"Date\": filtered['TESTDATE']})\n",
    "            \n",
    "            sns.lineplot(x=\"Date\", y=\"medians\", data=line_medians, color=\"orange\", ax=axes[i, n])\n",
    "            sns.lineplot(x=\"Date\", y=\"means\", data=line_medians, color=\"green\", ax=axes[i, n])\n",
    "            sns.scatterplot(x=\"TESTDATE\", y=feature, data = filtered, \n",
    "                estimator = sum, ci = None, ax=axes[i, n])\n",
    "            if operator == 'less':\n",
    "                sns.scatterplot(x=\"TESTDATE\", y=feature, data = filtered.loc[filtered[feature]<value], \n",
    "                estimator = sum, ci = None, ax=axes[i, n], color='red')\n",
    "            elif operator == 'greater':\n",
    "                sns.scatterplot(x=\"TESTDATE\", y=feature, data = filtered.loc[filtered[feature]>value], \n",
    "                estimator = sum, ci = None, ax=axes[i, n], color='red')\n",
    "            \n",
    "            \n",
    "            axes[i, n].set_xlim([filtered['TESTDATE'].iloc[0], filtered['TESTDATE'].iloc[-1]])\n",
    "            axes[i, n].set_title(well_names[w])\n",
    "            w+=1\n",
    "            \n",
    "    plt.tight_layout()\n",
    "    plt.show()\n",
    "\n",
    "def get_unique_values_by_col(df, col_name):\n",
    "    \n",
    "    \"\"\" Obtiene los valores unicos para una determinada columna \"\"\"\n",
    "    \n",
    "    uniques = df[col_name].unique().tolist()\n",
    "    return uniques\n",
    "\n",
    "def change_value(df, col_name, curr_value, new_value):\n",
    "    \n",
    "    \"\"\" Esta funcion renombra el valor originar de un grupo determinado de celdas bajo una condicion\n",
    "        las celdas deben ser igual al valor actual (curr_value)\n",
    "    \"\"\"\n",
    "    \n",
    "    mask = df[col_name] == curr_value\n",
    "    df.loc[mask, col_name] = new_value\n",
    "    \n",
    "    return df\n",
    "\n",
    "def cust_desc(serie):\n",
    "    return pd.DataFrame(serie.describe()).T\n",
    "\n",
    "def filter_by_num(df, col, number, cols_to_show, operator='less_equal'):\n",
    "    \"\"\" Esta funcion filtra el data frame por valores configurables\n",
    "    \n",
    "     operator: [less_equal, greater_equal, less, greater]\n",
    "    \"\"\"\n",
    "    if operator == 'greater_equal':\n",
    "        return df.loc[df[col] >= number].reset_index(drop=True).loc[:,cols_to_show].copy()\n",
    "    elif operator == 'less_equal':\n",
    "        return df.loc[df[col] <= number].reset_index(drop=True).loc[:,cols_to_show].copy()\n",
    "    elif operator == 'equal':\n",
    "        return df.loc[df[col] == number].reset_index(drop=True).loc[:,cols_to_show].copy()\n",
    "    elif operator == 'less':\n",
    "        return df.loc[df[col] < number].reset_index(drop=True).loc[:,cols_to_show].copy()\n",
    "    elif operator == 'greater':\n",
    "        return df.loc[df[col] > number].reset_index(drop=True).loc[:,cols_to_show].copy()\n",
    "    else:\n",
    "        print(\"Please check operator parameter: operators available: [less_equal, greater_equal, less, greater]\")\n",
    "\n",
    "def filter_by_well(df, well_name, cols_to_show):\n",
    "    \"\"\" Esta funcion filtra el data frame por nombre de pozo \"\"\"\n",
    "    try:\n",
    "        return df.loc[df[\"LWNAME\"] == well_name].copy().loc[:,cols_to_show]\n",
    "    except:\n",
    "        print(\"Please check well_name:\")\n",
    "\n",
    "def sub_plot_well(df, well_names, x, y, r, c):\n",
    "    f, axes = plt.subplots(r, c, figsize=(15, 10), sharex=False)\n",
    "    f.subplots_adjust(left=None, bottom=None, right=None, top=None, wspace=None, hspace=None)\n",
    "    f.constrained_layout = True\n",
    "    \n",
    "    w = 0\n",
    "    for i in range(r):\n",
    "        for n in range(c):\n",
    "            try:\n",
    "                filtered = filter_by_well(df, well_names[w], poss_vars + operational_vars).reset_index(drop=True)\n",
    "                sns.regplot(x=x, y=y, data=filtered, ax=axes[i, n], scatter_kws={\"color\": \"skyblue\"}, line_kws={\"color\": \"blue\"})\n",
    "                sns.scatterplot(x=x, y=y, data=filtered.loc[filtered[y]<0], ax=axes[i, n], color='red')\n",
    "                axes[i, n].set_title(well_names[w])\n",
    "                w+=1\n",
    "            except:\n",
    "                pass\n",
    "    plt.tight_layout()\n",
    "    plt.show()\n",
    "\n",
    "def sub_plot_histobox(df, var):\n",
    "    f, (axe1, axe2) = plt.subplots(1, 2, figsize=(10, 5), sharex=False)\n",
    "    f.subplots_adjust(left=None, bottom=None, right=None, top=None, wspace=None, hspace=None)\n",
    "    f.constrained_layout = True\n",
    "    \n",
    "    sns.distplot(df.loc[:,var], ax=axe1, kde=False)\n",
    "    sns.boxplot(x=var, data=df, ax=axe2)\n",
    "    \n",
    "    f.tight_layout()\n",
    "    plt.tight_layout()\n",
    "    plt.show()\n",
    "\n",
    "def plot_corr_pearson(df):\n",
    "    colormap = plt.cm.RdBu\n",
    "    plt.figure(figsize = (25,20))\n",
    "    plt.title('Pearson Correlation of features', y = 1.05, size = 15)\n",
    "    ax = sns.heatmap(df.corr(), \n",
    "                     linewidth = 0.1, \n",
    "                     vmax = 1.0, \n",
    "                     cmap = colormap, \n",
    "                     linecolor = 'white', \n",
    "                     cbar=True, fmt='.2f',\n",
    "                     annot=True,\n",
    "                     annot_kws={\n",
    "                         \"weight\": \"bold\",\n",
    "                         \"size\": 15,\n",
    "                     })\n",
    "    for label in ax.get_yticklabels():\n",
    "        label.set_size(15)\n",
    "        label.set_weight(\"bold\")\n",
    "        label.set_color(\"black\")\n",
    "    for label in ax.get_xticklabels():\n",
    "        label.set_size(15)\n",
    "        label.set_weight(\"bold\")\n",
    "        label.set_color(\"black\")\n",
    "    plt.show()"
   ]
  },
  {
   "cell_type": "markdown",
   "metadata": {},
   "source": [
    "### Constantes"
   ]
  },
  {
   "cell_type": "code",
   "execution_count": 3,
   "metadata": {},
   "outputs": [],
   "source": [
    "FILEPATH = '../DATA SOURCE/PRODUCTION TEST/pruebasdepozo_20200108_Copy.csv' #Ruta al archivo csv de Pruebas.\n",
    "df = pd.read_csv(FILEPATH) #Lectura del DataFrame\n",
    "df['TESTDATE'] = pd.to_datetime(df['TESTDATE'])\n",
    "df['WTINSTDATE_Y'] = pd.to_datetime(df['WTINSTDATE_Y'])\n",
    "df['SOURCE'] = 0 "
   ]
  },
  {
   "cell_type": "markdown",
   "metadata": {},
   "source": [
    "### Visualizacion de las primeras 5  y ultimas filas para revisar que se hayan cargado bien los datos."
   ]
  },
  {
   "cell_type": "code",
   "execution_count": 4,
   "metadata": {
    "scrolled": true
   },
   "outputs": [
    {
     "data": {
      "text/html": [
       "<div>\n",
       "<style scoped>\n",
       "    .dataframe tbody tr th:only-of-type {\n",
       "        vertical-align: middle;\n",
       "    }\n",
       "\n",
       "    .dataframe tbody tr th {\n",
       "        vertical-align: top;\n",
       "    }\n",
       "\n",
       "    .dataframe thead th {\n",
       "        text-align: right;\n",
       "    }\n",
       "</style>\n",
       "<table border=\"1\" class=\"dataframe\">\n",
       "  <thead>\n",
       "    <tr style=\"text-align: right;\">\n",
       "      <th></th>\n",
       "      <th>LWNAME</th>\n",
       "      <th>TESTDATE</th>\n",
       "      <th>TESTTIME</th>\n",
       "      <th>TESTHRS</th>\n",
       "      <th>ZONECODE</th>\n",
       "      <th>WTINSTDATE_Y</th>\n",
       "      <th>WTPUMPSIZE</th>\n",
       "      <th>PPR_WTPUMPSIZE</th>\n",
       "      <th>WTPMPRPM</th>\n",
       "      <th>WTCUMMREVS</th>\n",
       "      <th>...</th>\n",
       "      <th>TSTCOMNT</th>\n",
       "      <th>WTPRECOMMENT</th>\n",
       "      <th>WTDILVEHCO</th>\n",
       "      <th>WTSHRINKAG</th>\n",
       "      <th>WTDCOGOR</th>\n",
       "      <th>WTDHDILINJ</th>\n",
       "      <th>TSTOILGRAV</th>\n",
       "      <th>SPTCHGUSER</th>\n",
       "      <th>SPTCHGTMSP_Y</th>\n",
       "      <th>SOURCE</th>\n",
       "    </tr>\n",
       "  </thead>\n",
       "  <tbody>\n",
       "    <tr>\n",
       "      <th>0</th>\n",
       "      <td>B5 P03</td>\n",
       "      <td>2002-06-20</td>\n",
       "      <td>17:20</td>\n",
       "      <td>0.0</td>\n",
       "      <td>AMV-235/255</td>\n",
       "      <td>2002-02-21</td>\n",
       "      <td>0.00</td>\n",
       "      <td>110.0</td>\n",
       "      <td>0.0</td>\n",
       "      <td>0.00</td>\n",
       "      <td>...</td>\n",
       "      <td>NaN</td>\n",
       "      <td>NaN</td>\n",
       "      <td>0.00</td>\n",
       "      <td>0.00</td>\n",
       "      <td>0.0</td>\n",
       "      <td>NaN</td>\n",
       "      <td>0.0</td>\n",
       "      <td>mcanizalez</td>\n",
       "      <td>12/31/1969</td>\n",
       "      <td>0</td>\n",
       "    </tr>\n",
       "    <tr>\n",
       "      <th>1</th>\n",
       "      <td>C5 P12</td>\n",
       "      <td>2003-11-12</td>\n",
       "      <td>18:47</td>\n",
       "      <td>12.0</td>\n",
       "      <td>AMV-125</td>\n",
       "      <td>2001-12-13</td>\n",
       "      <td>0.00</td>\n",
       "      <td>110.0</td>\n",
       "      <td>300.0</td>\n",
       "      <td>0.00</td>\n",
       "      <td>...</td>\n",
       "      <td>NaN</td>\n",
       "      <td>NaN</td>\n",
       "      <td>0.97</td>\n",
       "      <td>0.97</td>\n",
       "      <td>33.0</td>\n",
       "      <td>NaN</td>\n",
       "      <td>0.0</td>\n",
       "      <td>marodriguez</td>\n",
       "      <td>12/31/1969</td>\n",
       "      <td>0</td>\n",
       "    </tr>\n",
       "    <tr>\n",
       "      <th>2</th>\n",
       "      <td>G1 P01</td>\n",
       "      <td>2017-06-14</td>\n",
       "      <td>8:51</td>\n",
       "      <td>6.0</td>\n",
       "      <td>AMV-144/135</td>\n",
       "      <td>2016-09-09</td>\n",
       "      <td>2.91</td>\n",
       "      <td>50.0</td>\n",
       "      <td>110.0</td>\n",
       "      <td>35.46</td>\n",
       "      <td>...</td>\n",
       "      <td>Buena</td>\n",
       "      <td>Bombeo DCO</td>\n",
       "      <td>0.31</td>\n",
       "      <td>1.00</td>\n",
       "      <td>27.0</td>\n",
       "      <td>NaN</td>\n",
       "      <td>8.5</td>\n",
       "      <td>HANM</td>\n",
       "      <td>6/15/2017</td>\n",
       "      <td>0</td>\n",
       "    </tr>\n",
       "    <tr>\n",
       "      <th>3</th>\n",
       "      <td>E4 P13</td>\n",
       "      <td>2017-06-14</td>\n",
       "      <td>9:41</td>\n",
       "      <td>12.0</td>\n",
       "      <td>AMV-165</td>\n",
       "      <td>2014-12-30</td>\n",
       "      <td>1.65</td>\n",
       "      <td>27.0</td>\n",
       "      <td>150.0</td>\n",
       "      <td>202.17</td>\n",
       "      <td>...</td>\n",
       "      <td>Buena</td>\n",
       "      <td>Bombeo DCO</td>\n",
       "      <td>0.33</td>\n",
       "      <td>1.00</td>\n",
       "      <td>27.0</td>\n",
       "      <td>NaN</td>\n",
       "      <td>8.6</td>\n",
       "      <td>HANM</td>\n",
       "      <td>6/15/2017</td>\n",
       "      <td>0</td>\n",
       "    </tr>\n",
       "    <tr>\n",
       "      <th>4</th>\n",
       "      <td>G2 P05RE</td>\n",
       "      <td>2017-06-13</td>\n",
       "      <td>11:59</td>\n",
       "      <td>6.0</td>\n",
       "      <td>AMV-144</td>\n",
       "      <td>2016-09-13</td>\n",
       "      <td>5.99</td>\n",
       "      <td>98.0</td>\n",
       "      <td>50.0</td>\n",
       "      <td>6.46</td>\n",
       "      <td>...</td>\n",
       "      <td>Buena</td>\n",
       "      <td>Prueba Valida</td>\n",
       "      <td>0.32</td>\n",
       "      <td>1.00</td>\n",
       "      <td>27.0</td>\n",
       "      <td>#</td>\n",
       "      <td>8.5</td>\n",
       "      <td>MORENOOJ</td>\n",
       "      <td>6/18/2017</td>\n",
       "      <td>0</td>\n",
       "    </tr>\n",
       "  </tbody>\n",
       "</table>\n",
       "<p>5 rows × 53 columns</p>\n",
       "</div>"
      ],
      "text/plain": [
       "     LWNAME   TESTDATE TESTTIME  TESTHRS     ZONECODE WTINSTDATE_Y  \\\n",
       "0    B5 P03 2002-06-20    17:20      0.0  AMV-235/255   2002-02-21   \n",
       "1    C5 P12 2003-11-12    18:47     12.0      AMV-125   2001-12-13   \n",
       "2    G1 P01 2017-06-14     8:51      6.0  AMV-144/135   2016-09-09   \n",
       "3    E4 P13 2017-06-14     9:41     12.0      AMV-165   2014-12-30   \n",
       "4  G2 P05RE 2017-06-13    11:59      6.0      AMV-144   2016-09-13   \n",
       "\n",
       "   WTPUMPSIZE  PPR_WTPUMPSIZE  WTPMPRPM  WTCUMMREVS   ...    TSTCOMNT  \\\n",
       "0        0.00           110.0       0.0        0.00   ...         NaN   \n",
       "1        0.00           110.0     300.0        0.00   ...         NaN   \n",
       "2        2.91            50.0     110.0       35.46   ...       Buena   \n",
       "3        1.65            27.0     150.0      202.17   ...       Buena   \n",
       "4        5.99            98.0      50.0        6.46   ...       Buena   \n",
       "\n",
       "    WTPRECOMMENT  WTDILVEHCO  WTSHRINKAG  WTDCOGOR  WTDHDILINJ  TSTOILGRAV  \\\n",
       "0            NaN        0.00        0.00       0.0         NaN         0.0   \n",
       "1            NaN        0.97        0.97      33.0         NaN         0.0   \n",
       "2     Bombeo DCO        0.31        1.00      27.0         NaN         8.5   \n",
       "3     Bombeo DCO        0.33        1.00      27.0         NaN         8.6   \n",
       "4  Prueba Valida        0.32        1.00      27.0           #         8.5   \n",
       "\n",
       "    SPTCHGUSER  SPTCHGTMSP_Y  SOURCE  \n",
       "0   mcanizalez    12/31/1969       0  \n",
       "1  marodriguez    12/31/1969       0  \n",
       "2         HANM     6/15/2017       0  \n",
       "3         HANM     6/15/2017       0  \n",
       "4     MORENOOJ     6/18/2017       0  \n",
       "\n",
       "[5 rows x 53 columns]"
      ]
     },
     "execution_count": 4,
     "metadata": {},
     "output_type": "execute_result"
    }
   ],
   "source": [
    "df.head()"
   ]
  },
  {
   "cell_type": "code",
   "execution_count": 5,
   "metadata": {},
   "outputs": [
    {
     "data": {
      "text/html": [
       "<div>\n",
       "<style scoped>\n",
       "    .dataframe tbody tr th:only-of-type {\n",
       "        vertical-align: middle;\n",
       "    }\n",
       "\n",
       "    .dataframe tbody tr th {\n",
       "        vertical-align: top;\n",
       "    }\n",
       "\n",
       "    .dataframe thead th {\n",
       "        text-align: right;\n",
       "    }\n",
       "</style>\n",
       "<table border=\"1\" class=\"dataframe\">\n",
       "  <thead>\n",
       "    <tr style=\"text-align: right;\">\n",
       "      <th></th>\n",
       "      <th>LWNAME</th>\n",
       "      <th>TESTDATE</th>\n",
       "      <th>TESTTIME</th>\n",
       "      <th>TESTHRS</th>\n",
       "      <th>ZONECODE</th>\n",
       "      <th>WTINSTDATE_Y</th>\n",
       "      <th>WTPUMPSIZE</th>\n",
       "      <th>PPR_WTPUMPSIZE</th>\n",
       "      <th>WTPMPRPM</th>\n",
       "      <th>WTCUMMREVS</th>\n",
       "      <th>...</th>\n",
       "      <th>TSTCOMNT</th>\n",
       "      <th>WTPRECOMMENT</th>\n",
       "      <th>WTDILVEHCO</th>\n",
       "      <th>WTSHRINKAG</th>\n",
       "      <th>WTDCOGOR</th>\n",
       "      <th>WTDHDILINJ</th>\n",
       "      <th>TSTOILGRAV</th>\n",
       "      <th>SPTCHGUSER</th>\n",
       "      <th>SPTCHGTMSP_Y</th>\n",
       "      <th>SOURCE</th>\n",
       "    </tr>\n",
       "  </thead>\n",
       "  <tbody>\n",
       "    <tr>\n",
       "      <th>48207</th>\n",
       "      <td>L4 P08</td>\n",
       "      <td>2019-12-28</td>\n",
       "      <td>7:00</td>\n",
       "      <td>5.0</td>\n",
       "      <td>AMV-135/145</td>\n",
       "      <td>2018-08-29</td>\n",
       "      <td>1.10</td>\n",
       "      <td>18.0</td>\n",
       "      <td>325.0</td>\n",
       "      <td>77.13</td>\n",
       "      <td>...</td>\n",
       "      <td>Buena</td>\n",
       "      <td>Prueba Valida</td>\n",
       "      <td>0.55</td>\n",
       "      <td>1.0</td>\n",
       "      <td>27.0</td>\n",
       "      <td>NaN</td>\n",
       "      <td>9.00</td>\n",
       "      <td>PIAMOG</td>\n",
       "      <td>12/30/2019</td>\n",
       "      <td>0</td>\n",
       "    </tr>\n",
       "    <tr>\n",
       "      <th>48208</th>\n",
       "      <td>L4 P10</td>\n",
       "      <td>2019-12-28</td>\n",
       "      <td>13:00</td>\n",
       "      <td>5.0</td>\n",
       "      <td>AMV-144</td>\n",
       "      <td>2019-09-07</td>\n",
       "      <td>2.29</td>\n",
       "      <td>35.0</td>\n",
       "      <td>230.0</td>\n",
       "      <td>29.34</td>\n",
       "      <td>...</td>\n",
       "      <td>Buena</td>\n",
       "      <td>Prueba valida</td>\n",
       "      <td>0.59</td>\n",
       "      <td>1.0</td>\n",
       "      <td>27.0</td>\n",
       "      <td>NaN</td>\n",
       "      <td>8.01</td>\n",
       "      <td>PIAMOG</td>\n",
       "      <td>12/30/2019</td>\n",
       "      <td>0</td>\n",
       "    </tr>\n",
       "    <tr>\n",
       "      <th>48209</th>\n",
       "      <td>L4 P05</td>\n",
       "      <td>2019-12-29</td>\n",
       "      <td>7:00</td>\n",
       "      <td>8.0</td>\n",
       "      <td>AMV-135/145</td>\n",
       "      <td>2018-08-04</td>\n",
       "      <td>3.77</td>\n",
       "      <td>60.0</td>\n",
       "      <td>200.0</td>\n",
       "      <td>0.00</td>\n",
       "      <td>...</td>\n",
       "      <td>Buena</td>\n",
       "      <td>prueba Valida</td>\n",
       "      <td>0.45</td>\n",
       "      <td>1.0</td>\n",
       "      <td>27.0</td>\n",
       "      <td>NaN</td>\n",
       "      <td>8.60</td>\n",
       "      <td>PIAMOG</td>\n",
       "      <td>12/30/2019</td>\n",
       "      <td>0</td>\n",
       "    </tr>\n",
       "    <tr>\n",
       "      <th>48210</th>\n",
       "      <td>H2 P14</td>\n",
       "      <td>2019-12-29</td>\n",
       "      <td>10:00</td>\n",
       "      <td>5.0</td>\n",
       "      <td>AMV-125</td>\n",
       "      <td>2015-07-05</td>\n",
       "      <td>0.00</td>\n",
       "      <td>31.0</td>\n",
       "      <td>100.0</td>\n",
       "      <td>285.17</td>\n",
       "      <td>...</td>\n",
       "      <td>Manual Test</td>\n",
       "      <td>NaN</td>\n",
       "      <td>0.54</td>\n",
       "      <td>1.0</td>\n",
       "      <td>27.0</td>\n",
       "      <td>NaN</td>\n",
       "      <td>8.10</td>\n",
       "      <td>ESCOBARGB</td>\n",
       "      <td>12/30/2019</td>\n",
       "      <td>0</td>\n",
       "    </tr>\n",
       "    <tr>\n",
       "      <th>48211</th>\n",
       "      <td>L3A P07</td>\n",
       "      <td>2019-12-02</td>\n",
       "      <td>20:30</td>\n",
       "      <td>8.0</td>\n",
       "      <td>AMV-185</td>\n",
       "      <td>2017-09-30</td>\n",
       "      <td>0.00</td>\n",
       "      <td>80.0</td>\n",
       "      <td>74.0</td>\n",
       "      <td>0.00</td>\n",
       "      <td>...</td>\n",
       "      <td>Buena</td>\n",
       "      <td>alto corte de agua</td>\n",
       "      <td>0.44</td>\n",
       "      <td>1.0</td>\n",
       "      <td>27.0</td>\n",
       "      <td>#</td>\n",
       "      <td>8.50</td>\n",
       "      <td>PIAMOG</td>\n",
       "      <td>1/3/2020</td>\n",
       "      <td>0</td>\n",
       "    </tr>\n",
       "  </tbody>\n",
       "</table>\n",
       "<p>5 rows × 53 columns</p>\n",
       "</div>"
      ],
      "text/plain": [
       "             LWNAME   TESTDATE TESTTIME  TESTHRS     ZONECODE WTINSTDATE_Y  \\\n",
       "48207        L4 P08 2019-12-28     7:00      5.0  AMV-135/145   2018-08-29   \n",
       "48208        L4 P10 2019-12-28    13:00      5.0      AMV-144   2019-09-07   \n",
       "48209        L4 P05 2019-12-29     7:00      8.0  AMV-135/145   2018-08-04   \n",
       "48210  H2 P14       2019-12-29    10:00      5.0      AMV-125   2015-07-05   \n",
       "48211       L3A P07 2019-12-02    20:30      8.0      AMV-185   2017-09-30   \n",
       "\n",
       "       WTPUMPSIZE  PPR_WTPUMPSIZE  WTPMPRPM  WTCUMMREVS   ...       TSTCOMNT  \\\n",
       "48207        1.10            18.0     325.0       77.13   ...          Buena   \n",
       "48208        2.29            35.0     230.0       29.34   ...          Buena   \n",
       "48209        3.77            60.0     200.0        0.00   ...          Buena   \n",
       "48210        0.00            31.0     100.0      285.17   ...    Manual Test   \n",
       "48211        0.00            80.0      74.0        0.00   ...          Buena   \n",
       "\n",
       "             WTPRECOMMENT  WTDILVEHCO  WTSHRINKAG  WTDCOGOR  WTDHDILINJ  \\\n",
       "48207       Prueba Valida        0.55         1.0      27.0         NaN   \n",
       "48208       Prueba valida        0.59         1.0      27.0         NaN   \n",
       "48209       prueba Valida        0.45         1.0      27.0         NaN   \n",
       "48210                 NaN        0.54         1.0      27.0         NaN   \n",
       "48211  alto corte de agua        0.44         1.0      27.0           #   \n",
       "\n",
       "       TSTOILGRAV  SPTCHGUSER  SPTCHGTMSP_Y  SOURCE  \n",
       "48207        9.00      PIAMOG    12/30/2019       0  \n",
       "48208        8.01      PIAMOG    12/30/2019       0  \n",
       "48209        8.60      PIAMOG    12/30/2019       0  \n",
       "48210        8.10   ESCOBARGB    12/30/2019       0  \n",
       "48211        8.50      PIAMOG      1/3/2020       0  \n",
       "\n",
       "[5 rows x 53 columns]"
      ]
     },
     "execution_count": 5,
     "metadata": {},
     "output_type": "execute_result"
    }
   ],
   "source": [
    "df.tail()"
   ]
  },
  {
   "cell_type": "code",
   "execution_count": 6,
   "metadata": {},
   "outputs": [],
   "source": [
    "poss_vars = ['LWNAME', 'OIL', 'SEP_OIL', 'WATER', 'SEP_WATER', 'GAS', 'SEP_GAS', 'TOTALFLD', 'TSTOILGRAV', 'H2OCUT', 'WTDILURATE', 'WTDILVEHCO']\n",
    "operational_vars = ['WTPIP', 'WTPDP', 'WTPIT', 'WTPDT', 'WTPMPRPM', 'PPR_WTPUMPSIZE', 'WTPUMPSIZE', 'WTPMPTORQUE', 'WTCUMMREVS']"
   ]
  },
  {
   "cell_type": "markdown",
   "metadata": {},
   "source": [
    "### Dimensiones de los datos"
   ]
  },
  {
   "cell_type": "code",
   "execution_count": 7,
   "metadata": {},
   "outputs": [
    {
     "data": {
      "text/html": [
       "<div>\n",
       "<style scoped>\n",
       "    .dataframe tbody tr th:only-of-type {\n",
       "        vertical-align: middle;\n",
       "    }\n",
       "\n",
       "    .dataframe tbody tr th {\n",
       "        vertical-align: top;\n",
       "    }\n",
       "\n",
       "    .dataframe thead th {\n",
       "        text-align: right;\n",
       "    }\n",
       "</style>\n",
       "<table border=\"1\" class=\"dataframe\">\n",
       "  <thead>\n",
       "    <tr style=\"text-align: right;\">\n",
       "      <th></th>\n",
       "      <th>No. Atributos</th>\n",
       "      <th>No. Filas</th>\n",
       "    </tr>\n",
       "  </thead>\n",
       "  <tbody>\n",
       "    <tr>\n",
       "      <th>0</th>\n",
       "      <td>53</td>\n",
       "      <td>48212</td>\n",
       "    </tr>\n",
       "  </tbody>\n",
       "</table>\n",
       "</div>"
      ],
      "text/plain": [
       "   No. Atributos  No. Filas\n",
       "0             53      48212"
      ]
     },
     "execution_count": 7,
     "metadata": {},
     "output_type": "execute_result"
    }
   ],
   "source": [
    "dimensions = pd.DataFrame({\"No. Atributos\": [df.shape[1]], \"No. Filas\": [df.shape[0]]})\n",
    "dimensions"
   ]
  },
  {
   "cell_type": "markdown",
   "metadata": {},
   "source": [
    "### Eliminar espacios sobrantes en las columnas de tipo \"str\""
   ]
  },
  {
   "cell_type": "code",
   "execution_count": 8,
   "metadata": {},
   "outputs": [],
   "source": [
    "df[df.columns] = df.apply(lambda x: x.str.strip() if type(x) == 'str' else x)\n",
    "for col in df.columns:\n",
    "    if df[col].dtype == 'object':\n",
    "        df[col] = df[col].str.strip()"
   ]
  },
  {
   "cell_type": "markdown",
   "metadata": {},
   "source": [
    "### Conocer el tipo de datos y el espacio en memoria que ocupan"
   ]
  },
  {
   "cell_type": "code",
   "execution_count": 9,
   "metadata": {
    "scrolled": true
   },
   "outputs": [
    {
     "name": "stdout",
     "output_type": "stream",
     "text": [
      "<class 'pandas.core.frame.DataFrame'>\n",
      "RangeIndex: 48212 entries, 0 to 48211\n",
      "Data columns (total 53 columns):\n",
      "LWNAME            48212 non-null object\n",
      "TESTDATE          48212 non-null datetime64[ns]\n",
      "TESTTIME          48212 non-null object\n",
      "TESTHRS           48212 non-null float64\n",
      "ZONECODE          48212 non-null object\n",
      "WTINSTDATE_Y      48212 non-null datetime64[ns]\n",
      "WTPUMPSIZE        48212 non-null float64\n",
      "PPR_WTPUMPSIZE    48212 non-null float64\n",
      "WTPMPRPM          48212 non-null float64\n",
      "WTCUMMREVS        48212 non-null float64\n",
      "WTPIP             48212 non-null float64\n",
      "WTPIT             48212 non-null float64\n",
      "WTPDP             48212 non-null float64\n",
      "WTPDT             48212 non-null float64\n",
      "WTDIFFPRES        48212 non-null float64\n",
      "WTDRAWPRES        48212 non-null float64\n",
      "WTTBNGPRES        48212 non-null float64\n",
      "WTPMPTORQUE       48212 non-null float64\n",
      "WTMETPRESS        48212 non-null float64\n",
      "WTMETTEMPR        48212 non-null float64\n",
      "WTDCORATE         48212 non-null float64\n",
      "WTDILURATE        48212 non-null float64\n",
      "OIL               48212 non-null float64\n",
      "TOTALFLD          48212 non-null float64\n",
      "GAS               48212 non-null float64\n",
      "TSTGOR            48212 non-null float64\n",
      "WTCASNGGAS        48212 non-null float64\n",
      "WTTUBNNGAS        48212 non-null float64\n",
      "WATER             48212 non-null float64\n",
      "SEP_TOTALFLD      48212 non-null float64\n",
      "SEP_OIL           48212 non-null float64\n",
      "SEP_GAS           48212 non-null float64\n",
      "WTPI              48212 non-null float64\n",
      "SEP_WATER         48212 non-null float64\n",
      "WTRSLTSEDR        48212 non-null float64\n",
      "SEP_TSTGOR        48212 non-null float64\n",
      "WTRSLTTEFF        48212 non-null float64\n",
      "WTRSLTPFCT        48212 non-null float64\n",
      "WTRSLTPEFF        48212 non-null float64\n",
      "H2OCUT            48212 non-null float64\n",
      "WTBSWSEDPT        48212 non-null float64\n",
      "WTEQUIPMNT        48210 non-null object\n",
      "SPTCODE           48212 non-null int64\n",
      "TSTCOMNT          46454 non-null object\n",
      "WTPRECOMMENT      37719 non-null object\n",
      "WTDILVEHCO        47855 non-null float64\n",
      "WTSHRINKAG        47855 non-null float64\n",
      "WTDCOGOR          47855 non-null float64\n",
      "WTDHDILINJ        1769 non-null object\n",
      "TSTOILGRAV        47855 non-null float64\n",
      "SPTCHGUSER        47797 non-null object\n",
      "SPTCHGTMSP_Y      47855 non-null object\n",
      "SOURCE            48212 non-null int64\n",
      "dtypes: datetime64[ns](2), float64(40), int64(2), object(9)\n",
      "memory usage: 19.5+ MB\n"
     ]
    }
   ],
   "source": [
    "df.info()"
   ]
  },
  {
   "cell_type": "markdown",
   "metadata": {},
   "source": [
    "### Conocer la cantidad de datos nulos por columnas de forma General"
   ]
  },
  {
   "cell_type": "code",
   "execution_count": 10,
   "metadata": {
    "scrolled": true
   },
   "outputs": [
    {
     "data": {
      "text/html": [
       "<div>\n",
       "<style scoped>\n",
       "    .dataframe tbody tr th:only-of-type {\n",
       "        vertical-align: middle;\n",
       "    }\n",
       "\n",
       "    .dataframe tbody tr th {\n",
       "        vertical-align: top;\n",
       "    }\n",
       "\n",
       "    .dataframe thead th {\n",
       "        text-align: right;\n",
       "    }\n",
       "</style>\n",
       "<table border=\"1\" class=\"dataframe\">\n",
       "  <thead>\n",
       "    <tr style=\"text-align: right;\">\n",
       "      <th></th>\n",
       "      <th>atributos</th>\n",
       "      <th>missing_values</th>\n",
       "      <th>percent</th>\n",
       "    </tr>\n",
       "  </thead>\n",
       "  <tbody>\n",
       "    <tr>\n",
       "      <th>WTDHDILINJ</th>\n",
       "      <td>WTDHDILINJ</td>\n",
       "      <td>46443</td>\n",
       "      <td>96.3308</td>\n",
       "    </tr>\n",
       "    <tr>\n",
       "      <th>WTPRECOMMENT</th>\n",
       "      <td>WTPRECOMMENT</td>\n",
       "      <td>10493</td>\n",
       "      <td>21.7643</td>\n",
       "    </tr>\n",
       "    <tr>\n",
       "      <th>TSTCOMNT</th>\n",
       "      <td>TSTCOMNT</td>\n",
       "      <td>1758</td>\n",
       "      <td>3.6464</td>\n",
       "    </tr>\n",
       "    <tr>\n",
       "      <th>SPTCHGUSER</th>\n",
       "      <td>SPTCHGUSER</td>\n",
       "      <td>415</td>\n",
       "      <td>0.8608</td>\n",
       "    </tr>\n",
       "    <tr>\n",
       "      <th>WTDILVEHCO</th>\n",
       "      <td>WTDILVEHCO</td>\n",
       "      <td>357</td>\n",
       "      <td>0.7405</td>\n",
       "    </tr>\n",
       "    <tr>\n",
       "      <th>WTSHRINKAG</th>\n",
       "      <td>WTSHRINKAG</td>\n",
       "      <td>357</td>\n",
       "      <td>0.7405</td>\n",
       "    </tr>\n",
       "    <tr>\n",
       "      <th>WTDCOGOR</th>\n",
       "      <td>WTDCOGOR</td>\n",
       "      <td>357</td>\n",
       "      <td>0.7405</td>\n",
       "    </tr>\n",
       "    <tr>\n",
       "      <th>TSTOILGRAV</th>\n",
       "      <td>TSTOILGRAV</td>\n",
       "      <td>357</td>\n",
       "      <td>0.7405</td>\n",
       "    </tr>\n",
       "    <tr>\n",
       "      <th>SPTCHGTMSP_Y</th>\n",
       "      <td>SPTCHGTMSP_Y</td>\n",
       "      <td>357</td>\n",
       "      <td>0.7405</td>\n",
       "    </tr>\n",
       "    <tr>\n",
       "      <th>WTEQUIPMNT</th>\n",
       "      <td>WTEQUIPMNT</td>\n",
       "      <td>2</td>\n",
       "      <td>0.0041</td>\n",
       "    </tr>\n",
       "  </tbody>\n",
       "</table>\n",
       "</div>"
      ],
      "text/plain": [
       "                 atributos  missing_values  percent\n",
       "WTDHDILINJ      WTDHDILINJ           46443  96.3308\n",
       "WTPRECOMMENT  WTPRECOMMENT           10493  21.7643\n",
       "TSTCOMNT          TSTCOMNT            1758   3.6464\n",
       "SPTCHGUSER      SPTCHGUSER             415   0.8608\n",
       "WTDILVEHCO      WTDILVEHCO             357   0.7405\n",
       "WTSHRINKAG      WTSHRINKAG             357   0.7405\n",
       "WTDCOGOR          WTDCOGOR             357   0.7405\n",
       "TSTOILGRAV      TSTOILGRAV             357   0.7405\n",
       "SPTCHGTMSP_Y  SPTCHGTMSP_Y             357   0.7405\n",
       "WTEQUIPMNT      WTEQUIPMNT               2   0.0041"
      ]
     },
     "execution_count": 10,
     "metadata": {},
     "output_type": "execute_result"
    }
   ],
   "source": [
    "missing_values = get_missing_values_df(df)\n",
    "missing_values"
   ]
  },
  {
   "cell_type": "markdown",
   "metadata": {},
   "source": [
    "### Visualizacion de los datos faltantes General"
   ]
  },
  {
   "cell_type": "code",
   "execution_count": 11,
   "metadata": {},
   "outputs": [
    {
     "data": {
      "image/png": "[encoded data removed]",
      "text/plain": [
       "<Figure size 1080x360 with 1 Axes>"
      ]
     },
     "metadata": {
      "needs_background": "light"
     },
     "output_type": "display_data"
    }
   ],
   "source": [
    "plot_bar(missing_values, \"atributos\", \"percent\")"
   ]
  },
  {
   "cell_type": "markdown",
   "metadata": {},
   "source": [
    "### Ocurrencias de datos faltantes General"
   ]
  },
  {
   "cell_type": "code",
   "execution_count": 12,
   "metadata": {},
   "outputs": [
    {
     "data": {
      "image/png": "[encoded data removed]",
      "text/plain": [
       "<Figure size 1080x360 with 1 Axes>"
      ]
     },
     "metadata": {
      "needs_background": "light"
     },
     "output_type": "display_data"
    }
   ],
   "source": [
    "plot_heatmap(df, \"ATRIBUTOS\", \"OCURRENCIA DATOS FALTANTES\", \"OCURRENCIA DE DATOS FALTANTES POR ATRIBUTOS\")"
   ]
  },
  {
   "cell_type": "markdown",
   "metadata": {},
   "source": [
    "**<center>Conclusiones Datos Faltantes General<center>**\n",
    "    \n",
    "    - Las visualizaciones previa permite conocer la cantidad, porcentaje y ocurrencia de valores faltantes, lo cual permite tomar decisiones a la hora de operar con los datos.\n",
    "\n",
    "   \n",
    "   * **WTDHDILINJ**: atributos con mayor numeros de datos faltantes (96% de los datos). Es probable que sea una variable a eliminar del conjunto de datos.\n",
    "   \n",
    "   \n",
    "   * **WTPRECOMMENT**: atributos con 21% de valores faltantes. Esta variable sera eliminada ya que no es determinante para el modelo final.\n",
    "   \n",
    "   \n",
    "   * **TSTCOMNT**: Este atributo sera eliminado ya que no es determinante para el modelo final.\n",
    "   \n",
    "   \n",
    "   * **SPTCHGUSER**: Este atributo sera elminado ya que no es determinante para el modelo final.\n",
    "   \n",
    "   \n",
    "   * **SPTCHGTMSP_Y**:Este atributo por ahora no se considera determinte para el modelo final.\n",
    "   \n",
    "   \n",
    "   * **TSTOILGRAV**: Atributos con apenas 0.74% de valores faltantes, posibles medidas a toma:\n",
    "   \n",
    "   \n",
    "        - evaluar estadistica descriptiva de los datos, mediciones de centralizacion (media, median, moda...) considerando que es una propiedad que no varia mucho, esto ayudara a inferir los valores faltantes\n",
    "   \n",
    "        - como ultimo recurso eliminar las filas donde falta este atributo ya que no representa ni el 1% del conjunto total de los datos.\n",
    "        \n",
    "    \n",
    "   * **WTDCOGOR**: La estadistica descriptiva ayudara a tomar desiciones en la ausencia de valores faltantes, haciendo un analisis de esta propiedad por pozos. Respectivamente para el resto de missing values.\n",
    "    \n",
    "    \n",
    "   * **WTDILVEHCO**: \n",
    "   \n",
    "   * **WTEQUIPMNT**:\n",
    "   \n",
    "   * **WTSHRINKAG**:"
   ]
  },
  {
   "cell_type": "markdown",
   "metadata": {},
   "source": [
    "### Vamos eliminar variables que por ahora sabemos que no formaran parte del modelo final\n",
    "\n",
    "* Comentarios, usuarios validador de la prueba"
   ]
  },
  {
   "cell_type": "code",
   "execution_count": 43,
   "metadata": {},
   "outputs": [],
   "source": [
    "data = df.drop(['SPTCHGUSER', 'WTDHDILINJ', 'TESTTIME', 'TESTHRS', 'SPTCHGTMSP_Y', 'SPTCODE'], axis=1).reset_index(drop=True)"
   ]
  },
  {
   "cell_type": "markdown",
   "metadata": {},
   "source": [
    "### Formateo del atributo WTEQUIPMNT"
   ]
  },
  {
   "cell_type": "code",
   "execution_count": 44,
   "metadata": {},
   "outputs": [
    {
     "name": "stdout",
     "output_type": "stream",
     "text": [
      "[nan 'Roxar' 'AGAR' 'SEPARATOR' 'Agar' 'Separator' 'SIMEFLUM' ''\n",
      " 'Separador' 'separator' 'Simeflum' 'TANQUE' 'simeflum' 'SIMEFLUN'\n",
      " 'SIMELUM' 'SEPARADOR' 'agar' '0' 'aGAR']\n"
     ]
    },
    {
     "data": {
      "text/plain": [
       "[nan, 'Roxar', 'Agar', 'Separator', 'Simeflum', 'Tanque']"
      ]
     },
     "execution_count": 44,
     "metadata": {},
     "output_type": "execute_result"
    }
   ],
   "source": [
    "print(data['WTEQUIPMNT'].unique())\n",
    "data['WTEQUIPMNT'] = data['WTEQUIPMNT'].str.strip()\n",
    "data['WTEQUIPMNT'] = data['WTEQUIPMNT'].str.capitalize()\n",
    "data['WTEQUIPMNT'] = data['WTEQUIPMNT'].str.replace(\"Separador\", \"Separator\")\n",
    "data['WTEQUIPMNT'] = data['WTEQUIPMNT'].str.replace(\"Simeflun\", \"Simeflum\")\n",
    "data['WTEQUIPMNT'] = data['WTEQUIPMNT'].str.replace('Simeflum', \"Simeflum\")\n",
    "data['WTEQUIPMNT'] = data['WTEQUIPMNT'].str.replace('Simelum', \"Simeflum\")\n",
    "mask1 = data['WTEQUIPMNT'] == '' \n",
    "mask2 = data['WTEQUIPMNT'] == '0'\n",
    "data.loc[mask1, 'WTEQUIPMNT'] = np.nan\n",
    "data.loc[mask2, 'WTEQUIPMNT'] = np.nan\n",
    "data['WTEQUIPMNT'].unique().tolist()"
   ]
  },
  {
   "cell_type": "markdown",
   "metadata": {},
   "source": [
    "### Formateo del atributo ZONECODE\n",
    "\n",
    "Arenas Productoras:\n",
    "* AMV-125\n",
    "* AMV-135\n",
    "* AMV-144\n",
    "* AMV-145\n",
    "* AMV-155\n",
    "* AMV-165\n",
    "* AMV-175\n",
    "* AMV-185\n",
    "* AMV-200\n",
    "* AMV-235\n",
    "* AMV-245\n",
    "* AMV-255\n",
    "\n",
    "Para este Dataset el atributo ZONECODE representa las arenas drenadas por el pozo."
   ]
  },
  {
   "cell_type": "code",
   "execution_count": 45,
   "metadata": {},
   "outputs": [
    {
     "name": "stdout",
     "output_type": "stream",
     "text": [
      "['AMV-235/255' 'AMV-125' 'AMV-144/135' 'AMV-165' 'AMV-144' 'AMV-155'\n",
      " 'AMV-135/145' 'AMV-165/175' 'AMV-235' 'AMV-255' 'AMV-145' 'AMV-135'\n",
      " 'AMV-135/144' 'AMV-175' '144' '135/144' 'AMV135/145' 'AMV 135/145'\n",
      " 'AMV 135/144' 'AMV-125/135' 'AMV-125/135/145' 'AMV-134/145' 'AMV-175/165'\n",
      " 'AMV-185' 'AMV-145/135']\n"
     ]
    },
    {
     "data": {
      "text/plain": [
       "array(['AMV-235/255', 'AMV-125', 'AMV-135/144', 'AMV-165', 'AMV-144',\n",
       "       'AMV-155', 'AMV-135/145', 'AMV-165/175', 'AMV-235', 'AMV-255',\n",
       "       'AMV-145', 'AMV-135', 'AMV-175', 'AMV-125/135', 'AMV-125/135/145',\n",
       "       'AMV-175/165', 'AMV-185'], dtype=object)"
      ]
     },
     "execution_count": 45,
     "metadata": {},
     "output_type": "execute_result"
    }
   ],
   "source": [
    "print(data['ZONECODE'].unique())\n",
    "data['ZONECODE'] = data['ZONECODE'].str.replace(' ', '-')\n",
    "data['ZONECODE'] = data['ZONECODE'].str.strip().str.replace(' ','-')\n",
    "to_renames = {\n",
    "    \"144\": \"AMV-144\",\n",
    "    \"135/144\": \"AMV-135/144\",\n",
    "    \"AMV-134/145\": \"AMV-135/145\",\n",
    "    \"AMV-145/135\": \"AMV-135/145\",\n",
    "    \"AMV-144/135\": \"AMV-135/144\",\n",
    "    \"AMV135/145\": \"AMV-135/145\"\n",
    "}\n",
    "for curr, new in to_renames.items():\n",
    "    data = change_value(data, \"ZONECODE\", curr, new)\n",
    "data['ZONECODE'].unique()"
   ]
  },
  {
   "cell_type": "code",
   "execution_count": 46,
   "metadata": {},
   "outputs": [
    {
     "data": {
      "image/png": "[encoded data removed]",
      "text/plain": [
       "<Figure size 1080x360 with 1 Axes>"
      ]
     },
     "metadata": {
      "needs_background": "light"
     },
     "output_type": "display_data"
    }
   ],
   "source": [
    "zonecodes = pd.DataFrame(data.groupby(by='ZONECODE').size()).reset_index()\n",
    "zonecodes.columns = ['ZONECODE', 'COUNT']\n",
    "zonecodes = zonecodes.sort_values(by='COUNT', ascending=False)\n",
    "plot_bar(zonecodes, \"ZONECODE\", \"COUNT\", \"Number of records vs Paquetes drenado\")"
   ]
  },
  {
   "cell_type": "code",
   "execution_count": 47,
   "metadata": {},
   "outputs": [
    {
     "data": {
      "image/png": "[encoded data removed]",
      "text/plain": [
       "<Figure size 1080x360 with 1 Axes>"
      ]
     },
     "metadata": {
      "needs_background": "light"
     },
     "output_type": "display_data"
    }
   ],
   "source": [
    "lengths = []\n",
    "zone = []\n",
    "i = 0\n",
    "for key, values in data.groupby(['ZONECODE'])['LWNAME'].unique().items():\n",
    "    lengths.append(len(values))\n",
    "    zone.append(key)\n",
    "    i+=1\n",
    "wells_by_zonecodes = pd.DataFrame({\"zonecodes\": zone, \"num wells\": lengths})\n",
    "wells_by_zonecodes = wells_by_zonecodes.sort_values(by='num wells', ascending=False)\n",
    "plot_bar(wells_by_zonecodes, \"zonecodes\", \"num wells\", \"Number of wells vs zonecodes\")"
   ]
  },
  {
   "cell_type": "markdown",
   "metadata": {},
   "source": [
    "### Numero Total de pozos"
   ]
  },
  {
   "cell_type": "code",
   "execution_count": 48,
   "metadata": {},
   "outputs": [
    {
     "data": {
      "text/plain": [
       "('Numero total de pozos: ', 815)"
      ]
     },
     "execution_count": 48,
     "metadata": {},
     "output_type": "execute_result"
    }
   ],
   "source": [
    "\"Numero total de pozos: \", len(data['LWNAME'].sort_values().unique().tolist())"
   ]
  },
  {
   "cell_type": "markdown",
   "metadata": {},
   "source": [
    "### Analisis de las variables."
   ]
  },
  {
   "cell_type": "markdown",
   "metadata": {},
   "source": [
    "* Analisis estadistico de cada una de las variables en busca de valores atipicos (OUTLIERS)\n",
    "\n",
    "Analizar primero variables operacionales las cuales son mas propensas a tener outliers ya que dependen directamente de los sensores los cuales por cualquier razon puede arrojar valores atipicos, normalmente un valor atipico para un sensor o es un valor maximo o un valor minimo. Teniendo consideraciones de lo que fisicamente es correcto se procedera a evaluar las variables operacionales:\n",
    "\n",
    "    * PIP: Presion en la entrada de la bomba (psia)\n",
    "    * PIT: Temperatura en la entrada de la bomba (F)\n",
    "    * PDP: Presion de descarga de la bomba (psia)\n",
    "    * PDT: Teperatura de descarga de la bomba (F)"
   ]
  },
  {
   "cell_type": "markdown",
   "metadata": {},
   "source": [
    "## PIP: Presion de Succion de la Bomba (Psia)"
   ]
  },
  {
   "cell_type": "code",
   "execution_count": 49,
   "metadata": {},
   "outputs": [
    {
     "name": "stderr",
     "output_type": "stream",
     "text": [
      "C:\\ProgramData\\Anaconda3\\lib\\site-packages\\scipy\\stats\\stats.py:1713: FutureWarning: Using a non-tuple sequence for multidimensional indexing is deprecated; use `arr[tuple(seq)]` instead of `arr[seq]`. In the future this will be interpreted as an array index, `arr[np.array(seq)]`, which will result either in an error or a different result.\n",
      "  return np.add.reduce(sorted[indexer] * weights, axis=axis) / sumval\n"
     ]
    },
    {
     "data": {
      "image/png": "[encoded data removed]",
      "text/plain": [
       "<Figure size 720x360 with 2 Axes>"
      ]
     },
     "metadata": {
      "needs_background": "light"
     },
     "output_type": "display_data"
    },
    {
     "data": {
      "text/html": [
       "<div>\n",
       "<style scoped>\n",
       "    .dataframe tbody tr th:only-of-type {\n",
       "        vertical-align: middle;\n",
       "    }\n",
       "\n",
       "    .dataframe tbody tr th {\n",
       "        vertical-align: top;\n",
       "    }\n",
       "\n",
       "    .dataframe thead th {\n",
       "        text-align: right;\n",
       "    }\n",
       "</style>\n",
       "<table border=\"1\" class=\"dataframe\">\n",
       "  <thead>\n",
       "    <tr style=\"text-align: right;\">\n",
       "      <th></th>\n",
       "      <th>count</th>\n",
       "      <th>mean</th>\n",
       "      <th>std</th>\n",
       "      <th>min</th>\n",
       "      <th>25%</th>\n",
       "      <th>50%</th>\n",
       "      <th>75%</th>\n",
       "      <th>max</th>\n",
       "    </tr>\n",
       "  </thead>\n",
       "  <tbody>\n",
       "    <tr>\n",
       "      <th>WTPIP</th>\n",
       "      <td>48212.0</td>\n",
       "      <td>311.195069</td>\n",
       "      <td>1154.745582</td>\n",
       "      <td>-10000.0</td>\n",
       "      <td>335.63</td>\n",
       "      <td>425.415</td>\n",
       "      <td>547.6925</td>\n",
       "      <td>9999.0</td>\n",
       "    </tr>\n",
       "  </tbody>\n",
       "</table>\n",
       "</div>"
      ],
      "text/plain": [
       "         count        mean          std      min     25%      50%       75%  \\\n",
       "WTPIP  48212.0  311.195069  1154.745582 -10000.0  335.63  425.415  547.6925   \n",
       "\n",
       "          max  \n",
       "WTPIP  9999.0  "
      ]
     },
     "execution_count": 49,
     "metadata": {},
     "output_type": "execute_result"
    }
   ],
   "source": [
    "var = \"WTPIP\"\n",
    "serie = data[var]\n",
    "sub_plot_histobox(data, serie.name)\n",
    "cust_desc(serie)"
   ]
  },
  {
   "cell_type": "markdown",
   "metadata": {},
   "source": [
    "podemos observar que existen valores negativos para la PIP y valores muy altos, lo cual es fisicamente imposible, se procede a sustituir todos aquellos valores menores o igual a 0 por nan (not a number) y fijamos un limite superior de PIP de 1000psia (basado en la maxima presion inicial reportada para los pozos)"
   ]
  },
  {
   "cell_type": "code",
   "execution_count": 50,
   "metadata": {},
   "outputs": [
    {
     "name": "stdout",
     "output_type": "stream",
     "text": [
      "3516 7.29\n"
     ]
    }
   ],
   "source": [
    "mask = (data[var] <= 0)\n",
    "print(mask.sum(), round(mask.sum()/len(data)*100, 2))\n",
    "data.loc[mask, var] = np.nan"
   ]
  },
  {
   "cell_type": "markdown",
   "metadata": {},
   "source": [
    "3516 valores menores o igual 0 lo que representa un 7.30% del total de los datos."
   ]
  },
  {
   "cell_type": "code",
   "execution_count": 51,
   "metadata": {},
   "outputs": [
    {
     "data": {
      "image/png": "[encoded data removed]",
      "text/plain": [
       "<Figure size 720x360 with 2 Axes>"
      ]
     },
     "metadata": {
      "needs_background": "light"
     },
     "output_type": "display_data"
    },
    {
     "data": {
      "text/html": [
       "<div>\n",
       "<style scoped>\n",
       "    .dataframe tbody tr th:only-of-type {\n",
       "        vertical-align: middle;\n",
       "    }\n",
       "\n",
       "    .dataframe tbody tr th {\n",
       "        vertical-align: top;\n",
       "    }\n",
       "\n",
       "    .dataframe thead th {\n",
       "        text-align: right;\n",
       "    }\n",
       "</style>\n",
       "<table border=\"1\" class=\"dataframe\">\n",
       "  <thead>\n",
       "    <tr style=\"text-align: right;\">\n",
       "      <th></th>\n",
       "      <th>count</th>\n",
       "      <th>mean</th>\n",
       "      <th>std</th>\n",
       "      <th>min</th>\n",
       "      <th>25%</th>\n",
       "      <th>50%</th>\n",
       "      <th>75%</th>\n",
       "      <th>max</th>\n",
       "    </tr>\n",
       "  </thead>\n",
       "  <tbody>\n",
       "    <tr>\n",
       "      <th>WTPIP</th>\n",
       "      <td>44696.0</td>\n",
       "      <td>465.664397</td>\n",
       "      <td>161.337348</td>\n",
       "      <td>3.13</td>\n",
       "      <td>362.46</td>\n",
       "      <td>440.0</td>\n",
       "      <td>558.0</td>\n",
       "      <td>9999.0</td>\n",
       "    </tr>\n",
       "  </tbody>\n",
       "</table>\n",
       "</div>"
      ],
      "text/plain": [
       "         count        mean         std   min     25%    50%    75%     max\n",
       "WTPIP  44696.0  465.664397  161.337348  3.13  362.46  440.0  558.0  9999.0"
      ]
     },
     "execution_count": 51,
     "metadata": {},
     "output_type": "execute_result"
    }
   ],
   "source": [
    "serie = data[var]\n",
    "sub_plot_histobox(data[[var]].dropna(how='any'), serie.name)\n",
    "cust_desc(serie)"
   ]
  },
  {
   "cell_type": "markdown",
   "metadata": {},
   "source": [
    "Existen valores de PIP muy elevados lo que es fisicamente imposible esto es data ruidosa debido a los censores. Segun las presiones iniciales reportadas para cada uno de los yacimientos del campo:\n",
    "\n",
    "    * YAC Superior: Max presion --> 777psia\n",
    "    * YAC Medio: Max presion --> 882psia\n",
    "    * YAC Inferior: Max presion --> 987psia\n",
    "    \n",
    "Vamos analizar el comportamiento de los pozos que presentan valores superiores a los 1000psia"
   ]
  },
  {
   "cell_type": "code",
   "execution_count": 52,
   "metadata": {},
   "outputs": [
    {
     "data": {
      "text/plain": [
       "array(['H4 P11', 'H4 P13', 'C5 P09'], dtype=object)"
      ]
     },
     "execution_count": 52,
     "metadata": {},
     "output_type": "execute_result"
    }
   ],
   "source": [
    "wells_unique = data.loc[(data['WTPIP'] < 100)]['LWNAME'].unique()\n",
    "wells_unique"
   ]
  },
  {
   "cell_type": "code",
   "execution_count": 59,
   "metadata": {},
   "outputs": [],
   "source": [
    "data.loc[1919, 'WTPIP'] = 962.10\n",
    "data.loc[3989, 'WTPIP'] = 730.00\n",
    "data.loc[29994, 'WTPIP'] = 392.66\n",
    "data.loc[30000, 'WTPIP'] = 392.66\n",
    "data.loc[31325, 'WTPIP'] = 299.76\n",
    "data.loc[47199, 'WTPIP'] = 216.00\n",
    "data.loc[30813, 'WTPIP'] = 313.00\n",
    "data.loc[data['WTPIP'] > 1000, 'WTPIP'] = np.nan\n",
    "data.loc[1848, 'TESTDATE'] = np.datetime64('2004-12-20')\n",
    "data.loc[data['WTPIP'] < 100, 'WTPIP'] = np.nan"
   ]
  },
  {
   "cell_type": "code",
   "execution_count": 63,
   "metadata": {},
   "outputs": [
    {
     "data": {
      "image/png": "[encoded data removed]",
      "text/plain": [
       "<Figure size 720x360 with 2 Axes>"
      ]
     },
     "metadata": {
      "needs_background": "light"
     },
     "output_type": "display_data"
    },
    {
     "data": {
      "text/html": [
       "<div>\n",
       "<style scoped>\n",
       "    .dataframe tbody tr th:only-of-type {\n",
       "        vertical-align: middle;\n",
       "    }\n",
       "\n",
       "    .dataframe tbody tr th {\n",
       "        vertical-align: top;\n",
       "    }\n",
       "\n",
       "    .dataframe thead th {\n",
       "        text-align: right;\n",
       "    }\n",
       "</style>\n",
       "<table border=\"1\" class=\"dataframe\">\n",
       "  <thead>\n",
       "    <tr style=\"text-align: right;\">\n",
       "      <th></th>\n",
       "      <th>count</th>\n",
       "      <th>mean</th>\n",
       "      <th>std</th>\n",
       "      <th>min</th>\n",
       "      <th>25%</th>\n",
       "      <th>50%</th>\n",
       "      <th>75%</th>\n",
       "      <th>max</th>\n",
       "    </tr>\n",
       "  </thead>\n",
       "  <tbody>\n",
       "    <tr>\n",
       "      <th>WTPIP</th>\n",
       "      <td>44611.0</td>\n",
       "      <td>463.575905</td>\n",
       "      <td>140.447356</td>\n",
       "      <td>135.11</td>\n",
       "      <td>362.27</td>\n",
       "      <td>439.71</td>\n",
       "      <td>557.17</td>\n",
       "      <td>998.0</td>\n",
       "    </tr>\n",
       "  </tbody>\n",
       "</table>\n",
       "</div>"
      ],
      "text/plain": [
       "         count        mean         std     min     25%     50%     75%    max\n",
       "WTPIP  44611.0  463.575905  140.447356  135.11  362.27  439.71  557.17  998.0"
      ]
     },
     "execution_count": 63,
     "metadata": {},
     "output_type": "execute_result"
    }
   ],
   "source": [
    "sub_plot_histobox(data[[var]].dropna(how='any'), serie.name)\n",
    "cust_desc(serie)"
   ]
  }
 ],
 "metadata": {
  "kernelspec": {
   "display_name": "Python 3",
   "language": "python",
   "name": "python3"
  },
  "language_info": {
   "codemirror_mode": {
    "name": "ipython",
    "version": 3
   },
   "file_extension": ".py",
   "mimetype": "text/x-python",
   "name": "python",
   "nbconvert_exporter": "python",
   "pygments_lexer": "ipython3",
   "version": "3.7.1"
  }
 },
 "nbformat": 4,
 "nbformat_minor": 2
}
